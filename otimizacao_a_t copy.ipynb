{
 "cells": [
  {
   "cell_type": "code",
   "execution_count": null,
   "source": [],
   "outputs": [],
   "metadata": {}
  },
  {
   "cell_type": "code",
   "execution_count": 251,
   "source": [
    "from __future__ import print_function\n",
    "import pandas as pd\n",
    "import numpy as np\n",
    "import math\n",
    "#Vamos importar o solver linear do ORTOOLS\n",
    "\n",
    "from ortools.linear_solver import pywraplp\n",
    "#Vamos importar o numpy como uma ferramenta auxiliar \n",
    "\n",
    "\n",
    "solver = pywraplp.Solver.CreateSolver('GLOP')\n",
    "\n",
    "def mi2ai(i,j,line_length):\n",
    "\treturn i*N+j\n",
    "\n",
    "def ai2mi(index, line_length):\n",
    "\treturn [maph.floor(index/line_length), index%line_length]\n",
    "sla = {}\n",
    "'''OMA = list()\n",
    "NOMA = list()\n",
    "FixNOMA = list()\n",
    "OUTAGE = list()\n",
    "NOMA_PAIRS = list()\n",
    "FNOMA_PAIRS = list()\n",
    "'''"
   ],
   "outputs": [
    {
     "output_type": "execute_result",
     "data": {
      "text/plain": [
       "'OMA = list()\\nNOMA = list()\\nFixNOMA = list()\\nOUTAGE = list()\\nNOMA_PAIRS = list()\\nFNOMA_PAIRS = list()\\n'"
      ]
     },
     "metadata": {},
     "execution_count": 251
    }
   ],
   "metadata": {}
  },
  {
   "cell_type": "code",
   "execution_count": 252,
   "source": [
    "NUFNOMA = pd.read_csv('0DF4.csv')\n",
    "NUFNOMA = NUFNOMA.drop(['Unnamed: 0'],axis=1)\n",
    "NUFNOMA.index = NUFNOMA.columns\n",
    "asd = sorted(list(NUFNOMA.columns))\n",
    "NUFNOMA = NUFNOMA.reindex(asd,axis=1)\n",
    "NUFNOMA = NUFNOMA.reindex(asd,axis=0)\n",
    "print(NUFNOMA.head(10))"
   ],
   "outputs": [
    {
     "output_type": "stream",
     "name": "stdout",
     "text": [
      "           0         1          2\n",
      "0  32.000000  0.000000   0.000000\n",
      "1   2.798949  4.000000  14.421977\n",
      "2   2.798949  7.298864   1.000000\n"
     ]
    }
   ],
   "metadata": {}
  },
  {
   "cell_type": "code",
   "execution_count": 253,
   "source": [
    "FNOMA = pd.read_csv('0DF3.csv')\n",
    "FNOMA = FNOMA.drop(['Unnamed: 0'],axis=1)\n",
    "FNOMA.index = FNOMA.columns\n",
    "asd = sorted(list(FNOMA.columns))\n",
    "FNOMA = FNOMA.reindex(asd,axis=1)\n",
    "FNOMA = FNOMA.reindex(asd,axis=0)\n",
    "FNOMA.head(10)"
   ],
   "outputs": [
    {
     "output_type": "execute_result",
     "data": {
      "text/html": [
       "<div>\n",
       "<style scoped>\n",
       "    .dataframe tbody tr th:only-of-type {\n",
       "        vertical-align: middle;\n",
       "    }\n",
       "\n",
       "    .dataframe tbody tr th {\n",
       "        vertical-align: top;\n",
       "    }\n",
       "\n",
       "    .dataframe thead th {\n",
       "        text-align: right;\n",
       "    }\n",
       "</style>\n",
       "<table border=\"1\" class=\"dataframe\">\n",
       "  <thead>\n",
       "    <tr style=\"text-align: right;\">\n",
       "      <th></th>\n",
       "      <th>0</th>\n",
       "      <th>1</th>\n",
       "      <th>2</th>\n",
       "    </tr>\n",
       "  </thead>\n",
       "  <tbody>\n",
       "    <tr>\n",
       "      <th>0</th>\n",
       "      <td>32.000000</td>\n",
       "      <td>0.000000</td>\n",
       "      <td>0.000000</td>\n",
       "    </tr>\n",
       "    <tr>\n",
       "      <th>1</th>\n",
       "      <td>1.993112</td>\n",
       "      <td>4.000000</td>\n",
       "      <td>1.993112</td>\n",
       "    </tr>\n",
       "    <tr>\n",
       "      <th>2</th>\n",
       "      <td>1.999951</td>\n",
       "      <td>1.999951</td>\n",
       "      <td>1.000000</td>\n",
       "    </tr>\n",
       "  </tbody>\n",
       "</table>\n",
       "</div>"
      ],
      "text/plain": [
       "           0         1         2\n",
       "0  32.000000  0.000000  0.000000\n",
       "1   1.993112  4.000000  1.993112\n",
       "2   1.999951  1.999951  1.000000"
      ]
     },
     "metadata": {},
     "execution_count": 253
    }
   ],
   "metadata": {}
  },
  {
   "cell_type": "code",
   "execution_count": 254,
   "source": [
    "DATA = pd.read_csv('DATA.csv')\n",
    "DATA\n",
    "\n",
    "DF_OMA = pd.read_csv('0DF1.csv')\n",
    "\n",
    "DF_OMA = DF_OMA.drop(['Unnamed: 0'],axis=1)\n",
    "DF_OMA.index = DF_OMA.columns\n",
    "asd = sorted(list(DF_OMA.columns))\n",
    "DF_OMA = DF_OMA.reindex(asd,axis=1)\n",
    "DF_OMA = DF_OMA.reindex(asd,axis=0)\n",
    "#print(DF_OMA)\n",
    "\n",
    "DF_NOMA = pd.read_csv('0DF.csv')\n",
    "DF_NOMA = DF_NOMA.drop(['Unnamed: 0'],axis=1)\n",
    "DF_NOMA.index = DF_NOMA.columns\n",
    "asd = sorted(list(DF_NOMA.columns))\n",
    "DF_NOMA = DF_NOMA.reindex(asd,axis=1)\n",
    "DF_NOMA = DF_NOMA.reindex(asd,axis=0)\n",
    "#DF_NOMA.head(10)\n",
    "\n",
    "DF2 = pd.read_csv('0DF2.csv')\n",
    "DF2['Unnamed: 0'] = DF2.columns[1:]\n",
    "DF2.rename(columns = {'Unnamed: 0':'SUMRATE FU-NU'}, inplace = True)\n",
    "DF2 = DF2.set_index(DF2['SUMRATE FU-NU'])\n",
    "DF2 = DF2.drop(['SUMRATE FU-NU'],axis=1)\n",
    "asd = sorted(list(DF2.columns))\n",
    "DF2 = DF2.reindex(asd,axis=1)\n",
    "DF2 = DF2.reindex(asd,axis=0)\n",
    "#print(DF2.head(10))\n",
    "\n",
    "\n",
    "\n",
    "\n",
    "sub_util = {}\n",
    "sumrate = {}\n",
    "i=0\n",
    "for c in DF2.columns:\n",
    "    #print(DF2[c][i])\n",
    "    #print(np.diag(DF_OMA)[i])\n",
    "    if DF2[c][i] < np.diag(DF_OMA)[i]:\n",
    "        sub_util[c] = DF2[c]/np.diag(DF_OMA)[i]\n",
    "        sumrate[c] = DF_NOMA[c]\n",
    "    else:\n",
    "        #print(f'{c}alo')\n",
    "        sub_util[c] = 0\n",
    "        sumrate[c] = 0\n",
    "    #desp[c] = DF[c]/np.diag(DF2)[i]\n",
    "    i=i+1\n",
    "\n",
    "sub_util = pd.DataFrame(sub_util)\n",
    "sumrate = pd.DataFrame(sumrate) \n",
    "sumrate\n",
    "\n",
    "FU = []\n",
    "N = len(sub_util.columns)\n",
    "Aloc = sumrate\n",
    "for i in range(N):\n",
    "    for j in range(N):\n",
    "        \n",
    "        if sumrate.iloc[i][j] > 0.0:\n",
    "            Aloc.iloc[i,j] = DF2.iloc[i][j]\n",
    "        \n",
    "        if sumrate.iloc[i][i] == 0:\n",
    "             Aloc.iloc[i,j] = DF_OMA.iloc[i,j]\n",
    "\n",
    "\n",
    "sub_util = {}\n",
    "sumrate = {}\n",
    "i=0\n",
    "for c in Aloc.columns:\n",
    "    #print(DF2[c][i])\n",
    "    #print(np.diag(DF_OMA)[i])\n",
    "    if DF2[c][i] < np.diag(DF_OMA)[i]:\n",
    "        sub_util[c] = Aloc[c]/np.diag(DF_OMA)[i]\n",
    "        sumrate[c] = DF_NOMA[c]\n",
    "    else:\n",
    "        #print(f'{c}alo')\n",
    "        sub_util[c] = 0\n",
    "        sumrate[c] = 0\n",
    "    #desp[c] = DF[c]/np.diag(DF2)[i]\n",
    "    i=i+1\n",
    "\n",
    "\n",
    "sub_util = pd.DataFrame(sub_util)\n",
    "sumrate = pd.DataFrame(sumrate) \n",
    "#sumrate    '''"
   ],
   "outputs": [],
   "metadata": {}
  },
  {
   "cell_type": "code",
   "execution_count": 255,
   "source": [
    "sumrate"
   ],
   "outputs": [
    {
     "output_type": "execute_result",
     "data": {
      "text/html": [
       "<div>\n",
       "<style scoped>\n",
       "    .dataframe tbody tr th:only-of-type {\n",
       "        vertical-align: middle;\n",
       "    }\n",
       "\n",
       "    .dataframe tbody tr th {\n",
       "        vertical-align: top;\n",
       "    }\n",
       "\n",
       "    .dataframe thead th {\n",
       "        text-align: right;\n",
       "    }\n",
       "</style>\n",
       "<table border=\"1\" class=\"dataframe\">\n",
       "  <thead>\n",
       "    <tr style=\"text-align: right;\">\n",
       "      <th></th>\n",
       "      <th>0</th>\n",
       "      <th>1</th>\n",
       "      <th>2</th>\n",
       "    </tr>\n",
       "  </thead>\n",
       "  <tbody>\n",
       "    <tr>\n",
       "      <th>0</th>\n",
       "      <td>0</td>\n",
       "      <td>0.000000</td>\n",
       "      <td>0.000000</td>\n",
       "    </tr>\n",
       "    <tr>\n",
       "      <th>1</th>\n",
       "      <td>0</td>\n",
       "      <td>4.000000</td>\n",
       "      <td>9.281729</td>\n",
       "    </tr>\n",
       "    <tr>\n",
       "      <th>2</th>\n",
       "      <td>0</td>\n",
       "      <td>5.382113</td>\n",
       "      <td>1.000000</td>\n",
       "    </tr>\n",
       "  </tbody>\n",
       "</table>\n",
       "</div>"
      ],
      "text/plain": [
       "   0         1         2\n",
       "0  0  0.000000  0.000000\n",
       "1  0  4.000000  9.281729\n",
       "2  0  5.382113  1.000000"
      ]
     },
     "metadata": {},
     "execution_count": 255
    }
   ],
   "metadata": {}
  },
  {
   "cell_type": "code",
   "execution_count": 256,
   "source": [
    "FU = []\n",
    "N = len(sub_util.columns)\n",
    "Aloc = sumrate\n",
    "for i in range(N):\n",
    "    for j in range(N):\n",
    "        \n",
    "        if sumrate.iloc[i][j] > 0.0:\n",
    "            Aloc.iloc[i,j] = DF2.iloc[i][j]\n",
    "        \n",
    "        if sumrate.iloc[i][i] == 0:\n",
    "             Aloc.iloc[i,j] = DF_OMA.iloc[i,j]\n",
    "Aloc             "
   ],
   "outputs": [
    {
     "output_type": "execute_result",
     "data": {
      "text/html": [
       "<div>\n",
       "<style scoped>\n",
       "    .dataframe tbody tr th:only-of-type {\n",
       "        vertical-align: middle;\n",
       "    }\n",
       "\n",
       "    .dataframe tbody tr th {\n",
       "        vertical-align: top;\n",
       "    }\n",
       "\n",
       "    .dataframe thead th {\n",
       "        text-align: right;\n",
       "    }\n",
       "</style>\n",
       "<table border=\"1\" class=\"dataframe\">\n",
       "  <thead>\n",
       "    <tr style=\"text-align: right;\">\n",
       "      <th></th>\n",
       "      <th>0</th>\n",
       "      <th>1</th>\n",
       "      <th>2</th>\n",
       "    </tr>\n",
       "  </thead>\n",
       "  <tbody>\n",
       "    <tr>\n",
       "      <th>0</th>\n",
       "      <td>4.634439</td>\n",
       "      <td>0.000000</td>\n",
       "      <td>0.000000</td>\n",
       "    </tr>\n",
       "    <tr>\n",
       "      <th>1</th>\n",
       "      <td>0.000000</td>\n",
       "      <td>4.000000</td>\n",
       "      <td>10.281729</td>\n",
       "    </tr>\n",
       "    <tr>\n",
       "      <th>2</th>\n",
       "      <td>0.000000</td>\n",
       "      <td>9.382113</td>\n",
       "      <td>1.000000</td>\n",
       "    </tr>\n",
       "  </tbody>\n",
       "</table>\n",
       "</div>"
      ],
      "text/plain": [
       "          0         1          2\n",
       "0  4.634439  0.000000   0.000000\n",
       "1  0.000000  4.000000  10.281729\n",
       "2  0.000000  9.382113   1.000000"
      ]
     },
     "metadata": {},
     "execution_count": 256
    }
   ],
   "metadata": {}
  },
  {
   "cell_type": "markdown",
   "source": [
    "Criando as Variaveis: N Variaveis de usuários primários\n",
    "                      NxN Variaveis de usuários secundários"
   ],
   "metadata": {}
  },
  {
   "cell_type": "code",
   "execution_count": 257,
   "source": [
    "Aloc1 =Aloc #pd.read_csv('SUMRATE_DB.csv',index_col=0)\n",
    "NU = []\n",
    "FU = []\n",
    "N = len(sub_util.columns)\n",
    "# Matriz de interesses\n",
    "A = Aloc.values   \n",
    "#A = Aloc1.values\n",
    "# i*j variaveis serao necessarias\n",
    "'''\n",
    "for j in range(0,N):\n",
    "\t\tNU.append(solver.NumVar(0, 1, f'NU_{j}'))\n",
    "print ('Numero de variaveis =', solver.NumVariables())\n",
    "'''\n",
    "for i in range(0,N):\n",
    "\tfor j in range(0,N):\n",
    "\t\tFU.append(solver.NumVar(0, 1,f'FU_{i}_{j}'))\n",
    "#print ('Numero de variaveis =', solver.NumVariables())\n",
    "\n"
   ],
   "outputs": [],
   "metadata": {}
  },
  {
   "cell_type": "code",
   "execution_count": 258,
   "source": [
    "A"
   ],
   "outputs": [
    {
     "output_type": "execute_result",
     "data": {
      "text/plain": [
       "array([[ 4.63443853,  0.        ,  0.        ],\n",
       "       [ 0.        ,  4.        , 10.28172877],\n",
       "       [ 0.        ,  9.38211323,  1.        ]])"
      ]
     },
     "metadata": {},
     "execution_count": 258
    }
   ],
   "metadata": {}
  },
  {
   "cell_type": "markdown",
   "source": [
    "# Restrições: \n",
    "\n",
    "1ª restrição: O número de usuários primários não pode ser superior ao número usuários total\n",
    "\n",
    "2ª restrição: O número de usuários secundários não pode ser superior ao número usuários total\n",
    "\n",
    "3ª restrição: Um usuário primário não pode ser associado como um usuário secundário.\n",
    "\n",
    "4ª restrição: Um usuário secundário não pode ser associado como um usuário primário."
   ],
   "metadata": {}
  },
  {
   "cell_type": "code",
   "execution_count": 259,
   "source": [
    "head = 1\n",
    "\n",
    "\n",
    "for j in range(N):\n",
    "    R = '0 <= '\n",
    "    ct = solver.Constraint(1,2, str(head))\n",
    "\n",
    "    for i in range(N):\n",
    "        if i == j:\n",
    "            ct.SetCoefficient(FU[mi2ai(j,j,N)], 1)\n",
    "            R += f'{FU[mi2ai(j,j,N)]} + '\n",
    "        else:    \n",
    "            ct.SetCoefficient(FU[mi2ai(i,j,N)], 1)\n",
    "            R += f'{FU[mi2ai(i,j,N)]} + '\n",
    "            ct.SetCoefficient(FU[mi2ai(j,i,N)], 1)\n",
    "            R += f'{FU[mi2ai(j,i,N)]} + '\n",
    "    head+=1\n",
    "    #print(R)    \n",
    "\n",
    "ct = solver.Constraint(N,N, str(head)) \n",
    "for j in range(N):\n",
    "    R = '0 <= '\n",
    "    \n",
    "    ct.SetCoefficient(FU[mi2ai(j,j,N)], 1)  \n",
    "\n",
    " \n",
    "for i in range(N):\n",
    "    R = '0 <= '\n",
    "    ct = solver.Constraint(0,2, str(head)) \n",
    "    for j in range(N):\n",
    "        ct.SetCoefficient(FU[mi2ai(i,j,N)], 1)     \n",
    "    head +=1\n",
    "solver.NumConstraints()"
   ],
   "outputs": [
    {
     "output_type": "execute_result",
     "data": {
      "text/plain": [
       "7"
      ]
     },
     "metadata": {},
     "execution_count": 259
    }
   ],
   "metadata": {
    "tags": []
   }
  },
  {
   "cell_type": "markdown",
   "source": [
    "objective = solver.Objective()\r\n",
    "EQ = 'EQ = '\r\n",
    "for j in range(N):\r\n",
    "    objective.SetCoefficient(NU[j], np.diag(DF_NOMA)[j])\r\n",
    "    EQ += f'{NU[j]}*{np.diag(DF_NOMA)[j]} + '\r\n",
    "    for i in range(N):\r\n",
    "        if i == j:\r\n",
    "            objective.SetCoefficient(FU[mi2ai(i,j,N)], int(DF_NOMA.iloc[i,j]))\r\n",
    "            EQ += f'{FU[mi2ai(i,j,N)]}*{int(DF_NOMA.iloc[i,j])} + ' \r\n",
    "        else:\r\n",
    "            objective.SetCoefficient(FU[mi2ai(i,j,N)], int(DF_NOMA.iloc[i,j]))\r\n",
    "            EQ += f'{FU[mi2ai(i,j,N)]}*{int(DF_NOMA.iloc[i,j])} + '     \r\n",
    "#print(EQ)\r\n",
    "objective.SetMaximization()\r\n",
    "solver.Solve()"
   ],
   "metadata": {}
  },
  {
   "cell_type": "code",
   "execution_count": 260,
   "source": [
    "objective = solver.Objective()\n",
    "for j in range(N):\n",
    "    #objective.SetCoefficient(FU[mi2ai(i,i,N)], 1)\n",
    "    for i in range(N):\n",
    "        objective.SetCoefficient(FU[mi2ai(i,j,N)], int(Aloc1.iloc[i,j]))\n",
    "        #ct.SetCoefficient(FU[mi2ai(j,i,N)], 1)\n",
    "objective.SetMaximization()\n",
    "\n",
    "# #Executaremos o solver\n",
    "solver.Solve()"
   ],
   "outputs": [
    {
     "output_type": "execute_result",
     "data": {
      "text/plain": [
       "0"
      ]
     },
     "metadata": {},
     "execution_count": 260
    }
   ],
   "metadata": {}
  },
  {
   "cell_type": "code",
   "execution_count": 261,
   "source": [
    "#FU[mi2ai(0,1,N)]"
   ],
   "outputs": [],
   "metadata": {}
  },
  {
   "cell_type": "code",
   "execution_count": 262,
   "source": [
    "#DF_NOMA = pd.read_csv('NOMA_DB.csv',index_col=0)\n",
    "#DF_NOMA"
   ],
   "outputs": [],
   "metadata": {}
  },
  {
   "cell_type": "code",
   "execution_count": 263,
   "source": [
    "A"
   ],
   "outputs": [
    {
     "output_type": "execute_result",
     "data": {
      "text/plain": [
       "array([[ 4.63443853,  0.        ,  0.        ],\n",
       "       [ 0.        ,  4.        , 10.28172877],\n",
       "       [ 0.        ,  9.38211323,  1.        ]])"
      ]
     },
     "metadata": {},
     "execution_count": 263
    }
   ],
   "metadata": {}
  },
  {
   "cell_type": "code",
   "execution_count": 264,
   "source": [
    "print('Solution:')\n",
    "#print('Valor objetivo =', (objective.Value()))\n",
    "pair = 0\n",
    "matriz = np.zeros(shape=(N,N))\n",
    "for i in range(0,N):\n",
    "    for j in range(0,N):\n",
    "        matriz[i,j] = (int(FU[mi2ai(i,j,N)].solution_value()))\n",
    "for i in range(0,N):\n",
    "    for j in range(0,N):\n",
    "        if i != j:\n",
    "            matriz[i,j] = (int(FU[mi2ai(i,j,N)].solution_value()))\n",
    "            if int(FU[mi2ai(i,j,N)].solution_value()) ==1:\n",
    "                    matriz[i,i] = 0\n",
    "                    matriz[j,j] = 0\n",
    "usuario_atendido = list(DF_NOMA.columns)\n",
    "tot = 0\n",
    "ftot = 0\n",
    "outage = 0\n",
    "NomaP= 0\n",
    "FNomaP = 0\n",
    "for i in range(0,N):\n",
    "\tfor j in range(0,N):\n",
    "\t\tif matriz[i,j] ==1:\n",
    "\t\t\tif i == j:\n",
    "\t\t\t\tprint(f'OMA User: {DF_NOMA.columns[j]}, data rate = {Aloc.iloc[i,i]}')\n",
    "\t\t\t\tprint(f'Used {(Aloc.iloc[i,j]/np.diag(Aloc)[i])*100}% from Shannon Channel Capacity')\n",
    "\t\t\t\tusuario_atendido.remove(DF_NOMA.columns[j])\n",
    "\t\t\t\ttot +=Aloc1.iloc[i,j]\n",
    "\t\t\t\tftot += Aloc1.iloc[i,i]\n",
    "\t\t\t\t#ftot += FNOMA.iloc[i,j]\n",
    "\t\t\telse:\n",
    "\t\t\t\tprint(f'NOMA Pair {pair} Near  User: {FU[j]}, data rate = {Aloc.iloc[j,j]}') \n",
    "\t\t\t\tprint(f'NOMA Pair {pair} Far  User: {FU[i]}, data rate = {DF_NOMA.iloc[i,j]}')\n",
    "\t\t\t\tNomaP +=1\n",
    "\t\t\t\tprint(f'FIXED NOMA Pair {pair} Near  User: {FU[j]}, data rate = {NUFNOMA.iloc[i,j]}') \n",
    "\t\t\t\tprint(f'FIXED NOMA Pair {pair} Far  User: {FU[i]}, data rate = {FNOMA.iloc[i,j]}')\n",
    "\t\t\t\t#print(f'Gain over OMA:{(Aloc.iloc[i,j]/np.diag(Aloc)[j])*100}% ') \n",
    "\t\t\t\ttot +=Aloc1.iloc[j,j]\n",
    "\t\t\t\tif FNOMA.iloc[i,j] >= Aloc1.iloc[i,i] and NUFNOMA.iloc[j,j] >= Aloc1.iloc[j,j]:\n",
    "\t\t\t\t\tprint(f'alocado:FIXED NOMA Pair {pair} Near  User: {FU[j]}, data rate = {NUFNOMA.iloc[i,j]}') \n",
    "\t\t\t\t\tprint(f'alocado:FIXED NOMA Pair {pair} Far  User: {FU[i]}, data rate = {FNOMA.iloc[i,j]}')\n",
    "\t\t\t\t\tFNomaP +=1\n",
    "\t\t\t\t\tftot += NUFNOMA.iloc[i,j]\n",
    "\t\t\t\t\tftot += FNOMA.iloc[j,j]\n",
    "\t\t\t\t\tusuario_atendido.remove(DF_NOMA.columns[j])\n",
    "\t\t\t\t\tusuario_atendido.remove(DF_NOMA.index[i])\n",
    "\t\t\t\t\t \n",
    "\t\t\t\telse:\n",
    "\t\t\t\t\tprint(f'Não alocado:FIXED NOMA Pair {pair} Near  User: {FU[j]}, data rate = {NUFNOMA.iloc[i,j]}, Alocado Ortogonal: {Aloc1.iloc[j,j]}') \n",
    "\t\t\t\t\tprint(f'Não alocado:FIXED NOMA Pair {pair} Far  User: {FU[i]}, data rate = {FNOMA.iloc[i,j]}, Alocado Ortogonal: {Aloc1.iloc[i,i]}')\n",
    "\t\t\t\t\toutage +=1\n",
    "\t\t\t\t\tprint(f'OMA User: {DF_NOMA.columns[j]}, data rate = {Aloc.iloc[i,i]}')\n",
    "\t\t\t\t\tprint(f'Used {(Aloc.iloc[i,j]/np.diag(Aloc)[i])*100}% from Shannon Channel Capacity')\n",
    "\t\t\t\t\t#usuario_atendido.remove(DF_NOMA.columns[j])\n",
    "\t\t\t\t\ttot +=Aloc1.iloc[i,j]\n",
    "\t\t\t\t\tftot += Aloc1.iloc[i,i]\n",
    "\t\t\t\t\tftot += Aloc1.iloc[j,j]\n",
    "\t\t\t\t\tpass\n",
    "\t\t\t\tpair = pair +1\n",
    "\t\telse:\n",
    "\t\t\tpass\n",
    "print(matriz)\n",
    "print(f'Fixed PA NOMA SumRate = {ftot}')\n",
    "print('Total SumRate =', np.sum(np.sum(Aloc1*matriz)))\n",
    "print(f'OMA Total SumRate = {np.sum(np.sum(np.diag(Aloc1)))}')\n"
   ],
   "outputs": [
    {
     "output_type": "stream",
     "name": "stdout",
     "text": [
      "Solution:\n",
      "OMA User: 0, data rate = 4.634438530519827\n",
      "Used 100.0% from Shannon Channel Capacity\n",
      "NOMA Pair 0 Near  User: FU_0_2, data rate = 1.0\n",
      "NOMA Pair 0 Far  User: FU_0_1, data rate = 9.281728765640628\n",
      "FIXED NOMA Pair 0 Near  User: FU_0_2, data rate = 14.421977469018186\n",
      "FIXED NOMA Pair 0 Far  User: FU_0_1, data rate = 1.993111969103155\n",
      "Não alocado:FIXED NOMA Pair 0 Near  User: FU_0_2, data rate = 14.421977469018186, Alocado Ortogonal: 1.0\n",
      "Não alocado:FIXED NOMA Pair 0 Far  User: FU_0_1, data rate = 1.993111969103155, Alocado Ortogonal: 4.0\n",
      "OMA User: 2, data rate = 4.0\n",
      "Used 257.0432191410157% from Shannon Channel Capacity\n",
      "[[1. 0. 0.]\n",
      " [0. 0. 1.]\n",
      " [0. 0. 0.]]\n",
      "Fixed PA NOMA SumRate = 9.634438530519827\n",
      "Total SumRate = 14.916167296160454\n",
      "OMA Total SumRate = 9.634438530519827\n"
     ]
    }
   ],
   "metadata": {}
  },
  {
   "cell_type": "code",
   "execution_count": 265,
   "source": [
    "Aloc"
   ],
   "outputs": [
    {
     "output_type": "execute_result",
     "data": {
      "text/html": [
       "<div>\n",
       "<style scoped>\n",
       "    .dataframe tbody tr th:only-of-type {\n",
       "        vertical-align: middle;\n",
       "    }\n",
       "\n",
       "    .dataframe tbody tr th {\n",
       "        vertical-align: top;\n",
       "    }\n",
       "\n",
       "    .dataframe thead th {\n",
       "        text-align: right;\n",
       "    }\n",
       "</style>\n",
       "<table border=\"1\" class=\"dataframe\">\n",
       "  <thead>\n",
       "    <tr style=\"text-align: right;\">\n",
       "      <th></th>\n",
       "      <th>0</th>\n",
       "      <th>1</th>\n",
       "      <th>2</th>\n",
       "    </tr>\n",
       "  </thead>\n",
       "  <tbody>\n",
       "    <tr>\n",
       "      <th>0</th>\n",
       "      <td>4.634439</td>\n",
       "      <td>0.000000</td>\n",
       "      <td>0.000000</td>\n",
       "    </tr>\n",
       "    <tr>\n",
       "      <th>1</th>\n",
       "      <td>0.000000</td>\n",
       "      <td>4.000000</td>\n",
       "      <td>10.281729</td>\n",
       "    </tr>\n",
       "    <tr>\n",
       "      <th>2</th>\n",
       "      <td>0.000000</td>\n",
       "      <td>9.382113</td>\n",
       "      <td>1.000000</td>\n",
       "    </tr>\n",
       "  </tbody>\n",
       "</table>\n",
       "</div>"
      ],
      "text/plain": [
       "          0         1          2\n",
       "0  4.634439  0.000000   0.000000\n",
       "1  0.000000  4.000000  10.281729\n",
       "2  0.000000  9.382113   1.000000"
      ]
     },
     "metadata": {},
     "execution_count": 265
    }
   ],
   "metadata": {}
  },
  {
   "cell_type": "code",
   "execution_count": 266,
   "source": [
    "OMA.append(np.sum(np.sum(np.diag(Aloc))))\n",
    "NOMA.append(np.sum(np.sum(Aloc*matriz)))\n",
    "FixNOMA.append(ftot)\n",
    "NOMA_PAIRS.append(NomaP)\n",
    "FNOMA_PAIRS.append(FNomaP)\n",
    "OUTAGE.append(outage)"
   ],
   "outputs": [
    {
     "output_type": "error",
     "ename": "NameError",
     "evalue": "name 'OMA' is not defined",
     "traceback": [
      "\u001b[0;31m---------------------------------------------------------------------------\u001b[0m",
      "\u001b[0;31mNameError\u001b[0m                                 Traceback (most recent call last)",
      "\u001b[0;32m/tmp/ipykernel_52171/30205897.py\u001b[0m in \u001b[0;36m<module>\u001b[0;34m\u001b[0m\n\u001b[0;32m----> 1\u001b[0;31m \u001b[0mOMA\u001b[0m\u001b[0;34m.\u001b[0m\u001b[0mappend\u001b[0m\u001b[0;34m(\u001b[0m\u001b[0mnp\u001b[0m\u001b[0;34m.\u001b[0m\u001b[0msum\u001b[0m\u001b[0;34m(\u001b[0m\u001b[0mnp\u001b[0m\u001b[0;34m.\u001b[0m\u001b[0msum\u001b[0m\u001b[0;34m(\u001b[0m\u001b[0mnp\u001b[0m\u001b[0;34m.\u001b[0m\u001b[0mdiag\u001b[0m\u001b[0;34m(\u001b[0m\u001b[0mAloc\u001b[0m\u001b[0;34m)\u001b[0m\u001b[0;34m)\u001b[0m\u001b[0;34m)\u001b[0m\u001b[0;34m)\u001b[0m\u001b[0;34m\u001b[0m\u001b[0;34m\u001b[0m\u001b[0m\n\u001b[0m\u001b[1;32m      2\u001b[0m \u001b[0mNOMA\u001b[0m\u001b[0;34m.\u001b[0m\u001b[0mappend\u001b[0m\u001b[0;34m(\u001b[0m\u001b[0mnp\u001b[0m\u001b[0;34m.\u001b[0m\u001b[0msum\u001b[0m\u001b[0;34m(\u001b[0m\u001b[0mnp\u001b[0m\u001b[0;34m.\u001b[0m\u001b[0msum\u001b[0m\u001b[0;34m(\u001b[0m\u001b[0mAloc\u001b[0m\u001b[0;34m*\u001b[0m\u001b[0mmatriz\u001b[0m\u001b[0;34m)\u001b[0m\u001b[0;34m)\u001b[0m\u001b[0;34m)\u001b[0m\u001b[0;34m\u001b[0m\u001b[0;34m\u001b[0m\u001b[0m\n\u001b[1;32m      3\u001b[0m \u001b[0mFixNOMA\u001b[0m\u001b[0;34m.\u001b[0m\u001b[0mappend\u001b[0m\u001b[0;34m(\u001b[0m\u001b[0mftot\u001b[0m\u001b[0;34m)\u001b[0m\u001b[0;34m\u001b[0m\u001b[0;34m\u001b[0m\u001b[0m\n\u001b[1;32m      4\u001b[0m \u001b[0mNOMA_PAIRS\u001b[0m\u001b[0;34m.\u001b[0m\u001b[0mappend\u001b[0m\u001b[0;34m(\u001b[0m\u001b[0mNomaP\u001b[0m\u001b[0;34m)\u001b[0m\u001b[0;34m\u001b[0m\u001b[0;34m\u001b[0m\u001b[0m\n\u001b[1;32m      5\u001b[0m \u001b[0mFNOMA_PAIRS\u001b[0m\u001b[0;34m.\u001b[0m\u001b[0mappend\u001b[0m\u001b[0;34m(\u001b[0m\u001b[0mFNomaP\u001b[0m\u001b[0;34m)\u001b[0m\u001b[0;34m\u001b[0m\u001b[0;34m\u001b[0m\u001b[0m\n",
      "\u001b[0;31mNameError\u001b[0m: name 'OMA' is not defined"
     ]
    }
   ],
   "metadata": {}
  },
  {
   "cell_type": "code",
   "execution_count": null,
   "source": [
    "sla['OMA Sum rate'] = OMA\n",
    "sla['Architecture Sum rate'] = NOMA\n",
    "sla['Fixed NOMA Sum rate'] = FixNOMA\n",
    "sla['Fixed NOMA Pairs'] = FNOMA_PAIRS\n",
    "sla['NOMA Pairs'] = NOMA_PAIRS\n",
    "sla['Fixed NOMA Outage'] = OUTAGE"
   ],
   "outputs": [],
   "metadata": {}
  },
  {
   "cell_type": "code",
   "execution_count": null,
   "source": [
    "#Aloc #sumrate"
   ],
   "outputs": [],
   "metadata": {}
  },
  {
   "cell_type": "code",
   "execution_count": null,
   "source": [
    "#DF_NOMA #achievable data rate"
   ],
   "outputs": [],
   "metadata": {}
  },
  {
   "cell_type": "code",
   "execution_count": null,
   "source": [
    "#FNOMA\n",
    "#DF_OMA #max channel capacity"
   ],
   "outputs": [],
   "metadata": {}
  },
  {
   "cell_type": "code",
   "execution_count": null,
   "source": [
    "len(sla['OMA Sum rate'])"
   ],
   "outputs": [
    {
     "output_type": "execute_result",
     "data": {
      "text/plain": [
       "19"
      ]
     },
     "metadata": {},
     "execution_count": 525
    }
   ],
   "metadata": {}
  },
  {
   "cell_type": "code",
   "execution_count": null,
   "source": [
    "sla['OMA Sum rate'][-1]"
   ],
   "outputs": [
    {
     "output_type": "execute_result",
     "data": {
      "text/plain": [
       "89.40946162205923"
      ]
     },
     "metadata": {},
     "execution_count": 526
    }
   ],
   "metadata": {}
  },
  {
   "cell_type": "code",
   "execution_count": null,
   "source": [
    "sla['Architecture Sum rate'][-1]"
   ],
   "outputs": [
    {
     "output_type": "execute_result",
     "data": {
      "text/plain": [
       "149.37326967758014"
      ]
     },
     "metadata": {},
     "execution_count": 527
    }
   ],
   "metadata": {}
  },
  {
   "cell_type": "code",
   "execution_count": null,
   "source": [
    "sla['Fixed NOMA Sum rate'][-1]"
   ],
   "outputs": [
    {
     "output_type": "execute_result",
     "data": {
      "text/plain": [
       "118.85209121514924"
      ]
     },
     "metadata": {},
     "execution_count": 528
    }
   ],
   "metadata": {}
  },
  {
   "cell_type": "code",
   "execution_count": null,
   "source": [
    "KCT = pd.DataFrame(sla)\n",
    "KCT.to_csv('Arq.csv',)"
   ],
   "outputs": [],
   "metadata": {}
  },
  {
   "cell_type": "code",
   "execution_count": null,
   "source": [
    "#OUTAGE"
   ],
   "outputs": [],
   "metadata": {}
  }
 ],
 "metadata": {
  "interpreter": {
   "hash": "916dbcbb3f70747c44a77c7bcd40155683ae19c65e1c03b4aa3499c5328201f1"
  },
  "kernelspec": {
   "name": "python3",
   "display_name": "Python 3.8.10 64-bit"
  },
  "language_info": {
   "codemirror_mode": {
    "name": "ipython",
    "version": 3
   },
   "file_extension": ".py",
   "mimetype": "text/x-python",
   "name": "python",
   "nbconvert_exporter": "python",
   "pygments_lexer": "ipython3",
   "version": "3.8.10"
  },
  "orig_nbformat": 4
 },
 "nbformat": 4,
 "nbformat_minor": 2
}