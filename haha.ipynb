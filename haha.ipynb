{
 "cells": [
  {
   "cell_type": "code",
   "execution_count": 5,
   "source": [
    "import pandas as pd\n"
   ],
   "outputs": [],
   "metadata": {}
  },
  {
   "cell_type": "code",
   "execution_count": 6,
   "source": [
    "tabela = {}\n",
    "tabela[100] = {'demanda': 10, 'canal': 1, 'distancia':  15}\n",
    "tabela[101] = {'demanda': 11, 'canal': 2, 'distancia':  12}\n",
    "tabela[102] = {'demanda': 10, 'canal': 1, 'distancia':  15}\n",
    "tabela[103] = {'demanda': 1, 'canal': 2, 'distancia': 12}"
   ],
   "outputs": [],
   "metadata": {}
  },
  {
   "cell_type": "code",
   "execution_count": 7,
   "source": [
    "DF = pd.read_csv('TABELA.csv',index_col=0)\n",
    "\n",
    "DF"
   ],
   "outputs": [
    {
     "output_type": "execute_result",
     "data": {
      "text/html": [
       "<div>\n",
       "<style scoped>\n",
       "    .dataframe tbody tr th:only-of-type {\n",
       "        vertical-align: middle;\n",
       "    }\n",
       "\n",
       "    .dataframe tbody tr th {\n",
       "        vertical-align: top;\n",
       "    }\n",
       "\n",
       "    .dataframe thead th {\n",
       "        text-align: right;\n",
       "    }\n",
       "</style>\n",
       "<table border=\"1\" class=\"dataframe\">\n",
       "  <thead>\n",
       "    <tr style=\"text-align: right;\">\n",
       "      <th></th>\n",
       "      <th>2002</th>\n",
       "      <th>2004</th>\n",
       "      <th>2006</th>\n",
       "    </tr>\n",
       "  </thead>\n",
       "  <tbody>\n",
       "    <tr>\n",
       "      <th>demanda</th>\n",
       "      <td>16.000000</td>\n",
       "      <td>4.000000</td>\n",
       "      <td>8.000000</td>\n",
       "    </tr>\n",
       "    <tr>\n",
       "      <th>canal</th>\n",
       "      <td>-209.529914</td>\n",
       "      <td>-134.369652</td>\n",
       "      <td>-188.793921</td>\n",
       "    </tr>\n",
       "    <tr>\n",
       "      <th>distancia</th>\n",
       "      <td>105.069559</td>\n",
       "      <td>40.696070</td>\n",
       "      <td>68.854753</td>\n",
       "    </tr>\n",
       "  </tbody>\n",
       "</table>\n",
       "</div>"
      ],
      "text/plain": [
       "                 2002        2004        2006\n",
       "demanda     16.000000    4.000000    8.000000\n",
       "canal     -209.529914 -134.369652 -188.793921\n",
       "distancia  105.069559   40.696070   68.854753"
      ]
     },
     "metadata": {},
     "execution_count": 7
    }
   ],
   "metadata": {}
  },
  {
   "cell_type": "code",
   "execution_count": null,
   "source": [],
   "outputs": [],
   "metadata": {}
  },
  {
   "cell_type": "code",
   "execution_count": 8,
   "source": [
    "from Otimin import Otimizar_NOMA, Canal, db2pow\n",
    "No = db2pow(-174)/1000\n",
    "Pt = db2pow(44)/1000\n",
    "for i in range(len(DF.columns)):\n",
    "    index = DF.columns[i]\n",
    "    for j in range(len(DF.columns)):\n",
    "        jndex = DF.columns[j]\n",
    "        if index == jndex:\n",
    "            pass\n",
    "        else:\n",
    "            print(f'Par {index}-{jndex}')\n",
    "            ans = Otimizar_NOMA(db2pow(DF[index]['canal']),db2pow(DF[jndex]['canal']),No,Pt,1,DF[index]['demanda'],DF[jndex]['demanda'])\n",
    "            if ans['Status'] != 0:\n",
    "                print('Usar OMA')\n",
    "            else:\n",
    "                print('Usar NOMA')\n",
    "            \n",
    "   "
   ],
   "outputs": [
    {
     "output_type": "stream",
     "name": "stdout",
     "text": [
      "Par 2002-2004\n",
      "Usar NOMA\n",
      "Par 2002-2006\n",
      "Usar NOMA\n",
      "Par 2004-2002\n",
      "Usar OMA\n",
      "Par 2004-2006\n",
      "Usar NOMA\n",
      "Par 2006-2002\n",
      "Usar OMA\n",
      "Par 2006-2004\n",
      "Usar OMA\n"
     ]
    }
   ],
   "metadata": {}
  },
  {
   "cell_type": "code",
   "execution_count": 9,
   "source": [
    "float(Canal(10,2,1))"
   ],
   "outputs": [
    {
     "output_type": "execute_result",
     "data": {
      "text/plain": [
       "1.8580218160317372e-15"
      ]
     },
     "metadata": {},
     "execution_count": 9
    }
   ],
   "metadata": {}
  },
  {
   "cell_type": "code",
   "execution_count": 10,
   "source": [
    "from Otimin import Otimizar_NOMA, Canal, db2pow, pow2db\n",
    "import pandas as pd"
   ],
   "outputs": [],
   "metadata": {}
  },
  {
   "cell_type": "code",
   "execution_count": 11,
   "source": [
    "No = db2pow(-174)/1000\n",
    "Pt = db2pow(44)/1000\n",
    "DF = pd.read_csv('TABELA.csv',index_col=0)\n",
    "sumrate = {}\n",
    "for i in range(len(DF.columns)):\n",
    "    row = list()\n",
    "    index = DF.columns[i]\n",
    "    for j in range(len(DF.columns)):\n",
    "        jndex = DF.columns[j]\n",
    "        if i == j:\n",
    "            row.append(0)\n",
    "        else:\n",
    "            #print(f'Par {index}-{jndex}')\n",
    "            ans = Otimizar_NOMA(db2pow(DF[index]['canal']),db2pow(DF[jndex]['canal']),No,Pt,1,DF[index]['demanda'],DF[jndex]['demanda'])\n",
    "            print(f'Par{index}-{jndex}: {ans[\"SumRate\"]}')\n",
    "            #message = ACLMessage(ACLMessage.INFORM)\n",
    "            #message.add_receiver(AID('Transmission_Agent_9999@localhost:9999'))\n",
    "            row.append(ans['SumRate'])\n",
    "        sumrate[index] = row\n",
    "DF = pd.DataFrame(sumrate)\n",
    "\n",
    "print(sumrate)\n",
    "        \n",
    "\n"
   ],
   "outputs": [
    {
     "output_type": "stream",
     "name": "stdout",
     "text": [
      "Par2002-2004: 27.781400360764316\n",
      "Par2002-2006: 9.703780495719197\n",
      "Par2004-2002: 7.005554155690579\n",
      "Par2004-2006: 13.703702364047496\n",
      "Par2006-2002: 9.349063716766857\n",
      "Par2006-2004: 9.707696008849146\n",
      "{'2002': [0, 27.781400360764316, 9.703780495719197], '2004': [7.005554155690579, 0, 13.703702364047496], '2006': [9.349063716766857, 9.707696008849146, 0]}\n"
     ]
    }
   ],
   "metadata": {}
  },
  {
   "cell_type": "code",
   "execution_count": 12,
   "source": [
    "DF_NOMA = pd.read_csv('NOMA_DB.csv',index_col=0)\n",
    "DF = pd.read_csv('SUMRATE_DB.csv',index_col=0)\n",
    "Matriz_interesse = DF*DF_NOMA\n",
    "#DF.index = DF.columns\n",
    "\n",
    "#DF.reindex(DF.index,axis=1)\n",
    "#DF.reindex(DF.index,axis=0)\n",
    "Matriz_interesse\n"
   ],
   "outputs": [
    {
     "output_type": "execute_result",
     "data": {
      "text/html": [
       "<div>\n",
       "<style scoped>\n",
       "    .dataframe tbody tr th:only-of-type {\n",
       "        vertical-align: middle;\n",
       "    }\n",
       "\n",
       "    .dataframe tbody tr th {\n",
       "        vertical-align: top;\n",
       "    }\n",
       "\n",
       "    .dataframe thead th {\n",
       "        text-align: right;\n",
       "    }\n",
       "</style>\n",
       "<table border=\"1\" class=\"dataframe\">\n",
       "  <thead>\n",
       "    <tr style=\"text-align: right;\">\n",
       "      <th></th>\n",
       "      <th>2002</th>\n",
       "      <th>2004</th>\n",
       "      <th>2006</th>\n",
       "    </tr>\n",
       "  </thead>\n",
       "  <tbody>\n",
       "    <tr>\n",
       "      <th>2002</th>\n",
       "      <td>4.000000</td>\n",
       "      <td>0.000000</td>\n",
       "      <td>0.00000</td>\n",
       "    </tr>\n",
       "    <tr>\n",
       "      <th>2004</th>\n",
       "      <td>28.067811</td>\n",
       "      <td>1.000000</td>\n",
       "      <td>22.56349</td>\n",
       "    </tr>\n",
       "    <tr>\n",
       "      <th>2006</th>\n",
       "      <td>22.472369</td>\n",
       "      <td>23.442835</td>\n",
       "      <td>4.00000</td>\n",
       "    </tr>\n",
       "  </tbody>\n",
       "</table>\n",
       "</div>"
      ],
      "text/plain": [
       "           2002       2004      2006\n",
       "2002   4.000000   0.000000   0.00000\n",
       "2004  28.067811   1.000000  22.56349\n",
       "2006  22.472369  23.442835   4.00000"
      ]
     },
     "metadata": {},
     "execution_count": 12
    }
   ],
   "metadata": {}
  },
  {
   "cell_type": "markdown",
   "source": [],
   "metadata": {}
  }
 ],
 "metadata": {
  "orig_nbformat": 4,
  "language_info": {
   "name": "python",
   "version": "3.8.10",
   "mimetype": "text/x-python",
   "codemirror_mode": {
    "name": "ipython",
    "version": 3
   },
   "pygments_lexer": "ipython3",
   "nbconvert_exporter": "python",
   "file_extension": ".py"
  },
  "kernelspec": {
   "name": "python3",
   "display_name": "Python 3.8.10 64-bit"
  },
  "interpreter": {
   "hash": "916dbcbb3f70747c44a77c7bcd40155683ae19c65e1c03b4aa3499c5328201f1"
  }
 },
 "nbformat": 4,
 "nbformat_minor": 2
}