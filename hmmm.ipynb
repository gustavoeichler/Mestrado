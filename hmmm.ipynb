{
 "metadata": {
  "language_info": {
   "codemirror_mode": {
    "name": "ipython",
    "version": 3
   },
   "file_extension": ".py",
   "mimetype": "text/x-python",
   "name": "python",
   "nbconvert_exporter": "python",
   "pygments_lexer": "ipython3",
   "version": "3.7.4"
  },
  "orig_nbformat": 4,
  "kernelspec": {
   "name": "python3",
   "display_name": "Python 3.7.4  ('MAS': venv)"
  },
  "interpreter": {
   "hash": "bacc39cc84c7bb91992f073a7db7854a70dbfadfb4c11718c5f0345abebd5a9c"
  }
 },
 "nbformat": 4,
 "nbformat_minor": 2,
 "cells": [
  {
   "cell_type": "code",
   "execution_count": null,
   "metadata": {},
   "outputs": [],
   "source": [
    "CG_DB={'Proposal 1': 15, 'Proposal 2': 96, 'Proposal 3': 150, 'Proposal 4': 60}\n",
    "DE_DB={'Proposal 1': 10, 'Proposal 2': 2, 'Proposal 3': 14, 'Proposal 4': 5}"
   ]
  },
  {
   "cell_type": "code",
   "execution_count": null,
   "metadata": {},
   "outputs": [],
   "source": [
    "from Otimin import Otimizar_NOMA, Canal,db2pow\n",
    "No     = db2pow(9)\n",
    "Pt     = (10**(-3))*db2pow(44)\n",
    "Banda  = 1   # 1MHz\n",
    "R1_min = 1\n",
    "for i in CG_DB:\n",
    "    print(f'proposta i = {i}')\n",
    "    for j in CG_DB:\n",
    "        if j == i:\n",
    "            pass\n",
    "        else:\n",
    "            ans = Otimizar_NOMA(Canal(CG_DB[i]),Canal(CG_DB[j]),No,Pt,Banda,DE_DB[i],DE_DB[j])\n",
    "            print(ans)\n",
    "        \n",
    "                "
   ]
  },
  {
   "cell_type": "code",
   "execution_count": null,
   "metadata": {},
   "outputs": [],
   "source": [
    "\n",
    "(10**(-3))*db2pow(44)"
   ]
  },
  {
   "cell_type": "code",
   "execution_count": null,
   "metadata": {},
   "outputs": [],
   "source": [
    "(Canal(100,0.9))"
   ]
  },
  {
   "cell_type": "code",
   "execution_count": null,
   "metadata": {},
   "outputs": [],
   "source": [
    "asd = {'Proposal 20001': [4.857471707495724, 0, 0, 0, 0, 0, 0, 0, 0, 0], 'Proposal 20009': [0, 7.90631926243743, 0, 0, 7.927954288496484, 0, 0, 0, 0, 7.945999019972646], 'Proposal 20003': [0, 0, 5.628239692210594, \n",
    "0, 0, 0, 0, 0, 0, 0], 'Proposal 20004': [0, 0, 0, 7.024600165896096, 0, 0, 0, 0, 0, 0], 'Proposal 20010': [5.783083848207653, 8.368629687858919, 0, 0, 9.049753899022356, 7.986314178879615, 9.981813975764254, \n",
    "9.317101958928374, 0, 10.039353820394329], 'Proposal 20006': [0, 0, 0, 0, 7.404289788309672, 7.37893823969125, 0, 0, 0, 7.415985092712862], 'Proposal 20002': [8.805369220843026, 11.512476203682144, 0, 0, 12.288478438235332, 11.095161282300499, 13.478985088409598, 12.609882073416586, 0, 13.56093090669083], 'Proposal 20007': [0, 0, 0, 0, 9.636312773220324, 0, 0, 9.646922593595551, 0, 9.667671336457522], 'Proposal 20005': [0, 0, 0, 0, 0, 0, 0, 0, 4.542312128266596, 0], 'Proposal 20008': [6.85624826266871, 9.895909836472633, 0, 0, 11.026806266364803, 9.371721395742908, 15.050255908933938, 11.612326844958886, 0, 16.59479436869581]}"
   ]
  },
  {
   "cell_type": "code",
   "execution_count": 1,
   "metadata": {},
   "outputs": [],
   "source": [
    "import pandas as pd\n"
   ]
  },
  {
   "cell_type": "code",
   "execution_count": 2,
   "metadata": {},
   "outputs": [
    {
     "output_type": "execute_result",
     "data": {
      "text/plain": [
       "                Proposal 20001  Proposal 20002  Proposal 20003  \\\n",
       "FU-NU                                                            \n",
       "Proposal 20001        8.000000        0.000000               0   \n",
       "Proposal 20002       12.879641        7.000000               0   \n",
       "Proposal 20003        2.442429        2.388598               1   \n",
       "Proposal 20004        7.979680        0.000000               0   \n",
       "Proposal 20005        7.652002        0.000000               0   \n",
       "Proposal 20006        0.000000        0.000000               0   \n",
       "Proposal 20007       13.788444        0.000000               0   \n",
       "Proposal 20008        7.431007        6.126188               0   \n",
       "Proposal 20009        6.108563        5.446032               0   \n",
       "Proposal 20010       13.839637        0.000000               0   \n",
       "\n",
       "                Proposal 20004  Proposal 20005  Proposal 20006  \\\n",
       "FU-NU                                                            \n",
       "Proposal 20001         0.00000               0               0   \n",
       "Proposal 20002         0.00000               0               0   \n",
       "Proposal 20003         0.00000               0               0   \n",
       "Proposal 20004         7.00000               0               0   \n",
       "Proposal 20005         0.00000               7               0   \n",
       "Proposal 20006         0.00000               0               4   \n",
       "Proposal 20007         0.00000               0               0   \n",
       "Proposal 20008         1.00068               0               0   \n",
       "Proposal 20009         0.00000               0               0   \n",
       "Proposal 20010         0.00000               0               0   \n",
       "\n",
       "                Proposal 20007  Proposal 20008  Proposal 20009  Proposal 20010  \n",
       "FU-NU                                                                           \n",
       "Proposal 20001        0.000000        0.000000        0.000000        0.000000  \n",
       "Proposal 20002       11.948312        0.000000        0.000000       10.928152  \n",
       "Proposal 20003        2.441659        2.406412        2.185982        2.439996  \n",
       "Proposal 20004        7.936667        0.000000        0.000000        7.847849  \n",
       "Proposal 20005        7.617659        0.000000        0.000000        7.546103  \n",
       "Proposal 20006        0.000000        0.000000        0.000000        0.000000  \n",
       "Proposal 20007        5.000000        0.000000        0.000000       11.113877  \n",
       "Proposal 20008        7.401517        1.000000        0.000000        7.339756  \n",
       "Proposal 20009        6.096802        5.636015        2.000000        6.071701  \n",
       "Proposal 20010        0.000000        0.000000        0.000000        7.000000  "
      ],
      "text/html": "<div>\n<style scoped>\n    .dataframe tbody tr th:only-of-type {\n        vertical-align: middle;\n    }\n\n    .dataframe tbody tr th {\n        vertical-align: top;\n    }\n\n    .dataframe thead th {\n        text-align: right;\n    }\n</style>\n<table border=\"1\" class=\"dataframe\">\n  <thead>\n    <tr style=\"text-align: right;\">\n      <th></th>\n      <th>Proposal 20001</th>\n      <th>Proposal 20002</th>\n      <th>Proposal 20003</th>\n      <th>Proposal 20004</th>\n      <th>Proposal 20005</th>\n      <th>Proposal 20006</th>\n      <th>Proposal 20007</th>\n      <th>Proposal 20008</th>\n      <th>Proposal 20009</th>\n      <th>Proposal 20010</th>\n    </tr>\n    <tr>\n      <th>FU-NU</th>\n      <th></th>\n      <th></th>\n      <th></th>\n      <th></th>\n      <th></th>\n      <th></th>\n      <th></th>\n      <th></th>\n      <th></th>\n      <th></th>\n    </tr>\n  </thead>\n  <tbody>\n    <tr>\n      <th>Proposal 20001</th>\n      <td>8.000000</td>\n      <td>0.000000</td>\n      <td>0</td>\n      <td>0.00000</td>\n      <td>0</td>\n      <td>0</td>\n      <td>0.000000</td>\n      <td>0.000000</td>\n      <td>0.000000</td>\n      <td>0.000000</td>\n    </tr>\n    <tr>\n      <th>Proposal 20002</th>\n      <td>12.879641</td>\n      <td>7.000000</td>\n      <td>0</td>\n      <td>0.00000</td>\n      <td>0</td>\n      <td>0</td>\n      <td>11.948312</td>\n      <td>0.000000</td>\n      <td>0.000000</td>\n      <td>10.928152</td>\n    </tr>\n    <tr>\n      <th>Proposal 20003</th>\n      <td>2.442429</td>\n      <td>2.388598</td>\n      <td>1</td>\n      <td>0.00000</td>\n      <td>0</td>\n      <td>0</td>\n      <td>2.441659</td>\n      <td>2.406412</td>\n      <td>2.185982</td>\n      <td>2.439996</td>\n    </tr>\n    <tr>\n      <th>Proposal 20004</th>\n      <td>7.979680</td>\n      <td>0.000000</td>\n      <td>0</td>\n      <td>7.00000</td>\n      <td>0</td>\n      <td>0</td>\n      <td>7.936667</td>\n      <td>0.000000</td>\n      <td>0.000000</td>\n      <td>7.847849</td>\n    </tr>\n    <tr>\n      <th>Proposal 20005</th>\n      <td>7.652002</td>\n      <td>0.000000</td>\n      <td>0</td>\n      <td>0.00000</td>\n      <td>7</td>\n      <td>0</td>\n      <td>7.617659</td>\n      <td>0.000000</td>\n      <td>0.000000</td>\n      <td>7.546103</td>\n    </tr>\n    <tr>\n      <th>Proposal 20006</th>\n      <td>0.000000</td>\n      <td>0.000000</td>\n      <td>0</td>\n      <td>0.00000</td>\n      <td>0</td>\n      <td>4</td>\n      <td>0.000000</td>\n      <td>0.000000</td>\n      <td>0.000000</td>\n      <td>0.000000</td>\n    </tr>\n    <tr>\n      <th>Proposal 20007</th>\n      <td>13.788444</td>\n      <td>0.000000</td>\n      <td>0</td>\n      <td>0.00000</td>\n      <td>0</td>\n      <td>0</td>\n      <td>5.000000</td>\n      <td>0.000000</td>\n      <td>0.000000</td>\n      <td>11.113877</td>\n    </tr>\n    <tr>\n      <th>Proposal 20008</th>\n      <td>7.431007</td>\n      <td>6.126188</td>\n      <td>0</td>\n      <td>1.00068</td>\n      <td>0</td>\n      <td>0</td>\n      <td>7.401517</td>\n      <td>1.000000</td>\n      <td>0.000000</td>\n      <td>7.339756</td>\n    </tr>\n    <tr>\n      <th>Proposal 20009</th>\n      <td>6.108563</td>\n      <td>5.446032</td>\n      <td>0</td>\n      <td>0.00000</td>\n      <td>0</td>\n      <td>0</td>\n      <td>6.096802</td>\n      <td>5.636015</td>\n      <td>2.000000</td>\n      <td>6.071701</td>\n    </tr>\n    <tr>\n      <th>Proposal 20010</th>\n      <td>13.839637</td>\n      <td>0.000000</td>\n      <td>0</td>\n      <td>0.00000</td>\n      <td>0</td>\n      <td>0</td>\n      <td>0.000000</td>\n      <td>0.000000</td>\n      <td>0.000000</td>\n      <td>7.000000</td>\n    </tr>\n  </tbody>\n</table>\n</div>"
     },
     "metadata": {},
     "execution_count": 2
    }
   ],
   "source": [
    "DF = pd.read_csv('DF.csv')\n",
    "DF['Unnamed: 0'] = DF.columns[1:]\n",
    "DF.rename(columns = {'Unnamed: 0':'FU-NU'}, inplace = True)\n",
    "DF = DF.set_index(DF['FU-NU'])\n",
    "DF = DF.drop(['FU-NU'],axis=1)\n",
    "\n",
    "DF1 = pd.read_csv('DF1.csv')\n",
    "DF1['Unnamed: 0'] = DF1.columns[1:]\n",
    "DF1.rename(columns = {'Unnamed: 0':'FU-NU'}, inplace = True)\n",
    "DF1 = DF1.set_index(DF1['FU-NU'])\n",
    "DF1 = DF1.drop(['FU-NU'],axis=1)\n",
    "asd = sorted(list(DF1.columns))\n",
    "DF1 = DF1.reindex(asd,axis=1)\n",
    "DF1 = DF1.reindex(asd,axis=0)\n",
    "#DF1 = pd.read_csv('DF1.csv')\n",
    "#DF1 = DF1.drop(['Unnamed: 0'],axis=1)\n",
    "#DF1.iloc[0,0] = f'FU-NU'\n",
    "#DF1 = DF1.set_index(DF1.columns)\n",
    "asd = sorted(list(DF.columns))\n",
    "DF = DF.reindex(asd,axis=1)\n",
    "DF = DF.reindex(asd,axis=0)\n",
    "DF.head(10)"
   ]
  },
  {
   "cell_type": "code",
   "execution_count": 3,
   "metadata": {},
   "outputs": [
    {
     "output_type": "execute_result",
     "data": {
      "text/plain": [
       "                Proposal 20001  Proposal 20002  Proposal 20003  \\\n",
       "SUMRATE FU-NU                                                    \n",
       "Proposal 20001       21.910111        0.000000        0.000000   \n",
       "Proposal 20002       20.879641       13.844313        0.000000   \n",
       "Proposal 20003       10.442429        9.388598        2.442843   \n",
       "Proposal 20004       15.979680        0.000000        0.000000   \n",
       "Proposal 20005       15.652002        0.000000        0.000000   \n",
       "Proposal 20006        0.000000        0.000000        0.000000   \n",
       "Proposal 20007       21.788444        0.000000        0.000000   \n",
       "Proposal 20008       15.431007       13.126188        0.000000   \n",
       "Proposal 20009       14.108563       12.446032        0.000000   \n",
       "Proposal 20010       21.839637        0.000000        0.000000   \n",
       "\n",
       "                Proposal 20004  Proposal 20005  Proposal 20006  \\\n",
       "SUMRATE FU-NU                                                    \n",
       "Proposal 20001        0.000000        0.000000        0.000000   \n",
       "Proposal 20002        0.000000        0.000000        0.000000   \n",
       "Proposal 20003        0.000000        0.000000        0.000000   \n",
       "Proposal 20004        8.003345        0.000000        0.000000   \n",
       "Proposal 20005        0.000000        7.670808        0.000000   \n",
       "Proposal 20006        0.000000        0.000000        3.246905   \n",
       "Proposal 20007        0.000000        0.000000        0.000000   \n",
       "Proposal 20008        8.000680        0.000000        0.000000   \n",
       "Proposal 20009        0.000000        0.000000        0.000000   \n",
       "Proposal 20010        0.000000        0.000000        0.000000   \n",
       "\n",
       "                Proposal 20007  Proposal 20008  Proposal 20009  Proposal 20010  \n",
       "SUMRATE FU-NU                                                                   \n",
       "Proposal 20001        0.000000        0.000000        0.000000        0.000000  \n",
       "Proposal 20002       16.948312        0.000000        0.000000       17.928152  \n",
       "Proposal 20003        7.441659        3.406412        4.185982        9.439996  \n",
       "Proposal 20004       12.936667        0.000000        0.000000       14.847849  \n",
       "Proposal 20005       12.617659        0.000000        0.000000       14.546103  \n",
       "Proposal 20006        0.000000        0.000000        0.000000        0.000000  \n",
       "Proposal 20007       17.353858        0.000000        0.000000       18.113877  \n",
       "Proposal 20008       12.401517        7.447113        0.000000       14.339756  \n",
       "Proposal 20009       11.096802        6.636015        6.114925       13.071701  \n",
       "Proposal 20010        0.000000        0.000000        0.000000       18.121774  "
      ],
      "text/html": "<div>\n<style scoped>\n    .dataframe tbody tr th:only-of-type {\n        vertical-align: middle;\n    }\n\n    .dataframe tbody tr th {\n        vertical-align: top;\n    }\n\n    .dataframe thead th {\n        text-align: right;\n    }\n</style>\n<table border=\"1\" class=\"dataframe\">\n  <thead>\n    <tr style=\"text-align: right;\">\n      <th></th>\n      <th>Proposal 20001</th>\n      <th>Proposal 20002</th>\n      <th>Proposal 20003</th>\n      <th>Proposal 20004</th>\n      <th>Proposal 20005</th>\n      <th>Proposal 20006</th>\n      <th>Proposal 20007</th>\n      <th>Proposal 20008</th>\n      <th>Proposal 20009</th>\n      <th>Proposal 20010</th>\n    </tr>\n    <tr>\n      <th>SUMRATE FU-NU</th>\n      <th></th>\n      <th></th>\n      <th></th>\n      <th></th>\n      <th></th>\n      <th></th>\n      <th></th>\n      <th></th>\n      <th></th>\n      <th></th>\n    </tr>\n  </thead>\n  <tbody>\n    <tr>\n      <th>Proposal 20001</th>\n      <td>21.910111</td>\n      <td>0.000000</td>\n      <td>0.000000</td>\n      <td>0.000000</td>\n      <td>0.000000</td>\n      <td>0.000000</td>\n      <td>0.000000</td>\n      <td>0.000000</td>\n      <td>0.000000</td>\n      <td>0.000000</td>\n    </tr>\n    <tr>\n      <th>Proposal 20002</th>\n      <td>20.879641</td>\n      <td>13.844313</td>\n      <td>0.000000</td>\n      <td>0.000000</td>\n      <td>0.000000</td>\n      <td>0.000000</td>\n      <td>16.948312</td>\n      <td>0.000000</td>\n      <td>0.000000</td>\n      <td>17.928152</td>\n    </tr>\n    <tr>\n      <th>Proposal 20003</th>\n      <td>10.442429</td>\n      <td>9.388598</td>\n      <td>2.442843</td>\n      <td>0.000000</td>\n      <td>0.000000</td>\n      <td>0.000000</td>\n      <td>7.441659</td>\n      <td>3.406412</td>\n      <td>4.185982</td>\n      <td>9.439996</td>\n    </tr>\n    <tr>\n      <th>Proposal 20004</th>\n      <td>15.979680</td>\n      <td>0.000000</td>\n      <td>0.000000</td>\n      <td>8.003345</td>\n      <td>0.000000</td>\n      <td>0.000000</td>\n      <td>12.936667</td>\n      <td>0.000000</td>\n      <td>0.000000</td>\n      <td>14.847849</td>\n    </tr>\n    <tr>\n      <th>Proposal 20005</th>\n      <td>15.652002</td>\n      <td>0.000000</td>\n      <td>0.000000</td>\n      <td>0.000000</td>\n      <td>7.670808</td>\n      <td>0.000000</td>\n      <td>12.617659</td>\n      <td>0.000000</td>\n      <td>0.000000</td>\n      <td>14.546103</td>\n    </tr>\n    <tr>\n      <th>Proposal 20006</th>\n      <td>0.000000</td>\n      <td>0.000000</td>\n      <td>0.000000</td>\n      <td>0.000000</td>\n      <td>0.000000</td>\n      <td>3.246905</td>\n      <td>0.000000</td>\n      <td>0.000000</td>\n      <td>0.000000</td>\n      <td>0.000000</td>\n    </tr>\n    <tr>\n      <th>Proposal 20007</th>\n      <td>21.788444</td>\n      <td>0.000000</td>\n      <td>0.000000</td>\n      <td>0.000000</td>\n      <td>0.000000</td>\n      <td>0.000000</td>\n      <td>17.353858</td>\n      <td>0.000000</td>\n      <td>0.000000</td>\n      <td>18.113877</td>\n    </tr>\n    <tr>\n      <th>Proposal 20008</th>\n      <td>15.431007</td>\n      <td>13.126188</td>\n      <td>0.000000</td>\n      <td>8.000680</td>\n      <td>0.000000</td>\n      <td>0.000000</td>\n      <td>12.401517</td>\n      <td>7.447113</td>\n      <td>0.000000</td>\n      <td>14.339756</td>\n    </tr>\n    <tr>\n      <th>Proposal 20009</th>\n      <td>14.108563</td>\n      <td>12.446032</td>\n      <td>0.000000</td>\n      <td>0.000000</td>\n      <td>0.000000</td>\n      <td>0.000000</td>\n      <td>11.096802</td>\n      <td>6.636015</td>\n      <td>6.114925</td>\n      <td>13.071701</td>\n    </tr>\n    <tr>\n      <th>Proposal 20010</th>\n      <td>21.839637</td>\n      <td>0.000000</td>\n      <td>0.000000</td>\n      <td>0.000000</td>\n      <td>0.000000</td>\n      <td>0.000000</td>\n      <td>0.000000</td>\n      <td>0.000000</td>\n      <td>0.000000</td>\n      <td>18.121774</td>\n    </tr>\n  </tbody>\n</table>\n</div>"
     },
     "metadata": {},
     "execution_count": 3
    }
   ],
   "source": [
    "DF2 = pd.read_csv('DF2.csv')\n",
    "DF2['Unnamed: 0'] = DF2.columns[1:]\n",
    "DF2.rename(columns = {'Unnamed: 0':'SUMRATE FU-NU'}, inplace = True)\n",
    "DF2 = DF2.set_index(DF2['SUMRATE FU-NU'])\n",
    "DF2 = DF2.drop(['SUMRATE FU-NU'],axis=1)\n",
    "asd = sorted(list(DF2.columns))\n",
    "DF2 = DF2.reindex(asd,axis=1)\n",
    "DF2 = DF2.reindex(asd,axis=0)\n",
    "DF2.head(10)"
   ]
  },
  {
   "cell_type": "code",
   "execution_count": 4,
   "metadata": {
    "tags": []
   },
   "outputs": [
    {
     "output_type": "stream",
     "name": "stdout",
     "text": [
      "SUMRATE FU-NU\nProposal 20001    1.000000\nProposal 20002    0.952968\nProposal 20003    0.476603\nProposal 20004    0.729329\nProposal 20005    0.714373\nProposal 20006    0.000000\nProposal 20007    0.994447\nProposal 20008    0.704287\nProposal 20009    0.643929\nProposal 20010    0.996783\nName: Proposal 20001, dtype: float64\nFU-NU\nProposal 20001    0.365128\nProposal 20002    0.587840\nProposal 20003    0.111475\nProposal 20004    0.364201\nProposal 20005    0.349245\nProposal 20006    0.000000\nProposal 20007    0.629319\nProposal 20008    0.339159\nProposal 20009    0.278801\nProposal 20010    0.631655\nName: Proposal 20001, dtype: float64\n"
     ]
    }
   ],
   "source": [
    "import numpy as np\n",
    "np.diag(DF1)\n",
    "dici = {}\n",
    "desp = {}\n",
    "i=0\n",
    "for c in DF2.columns:\n",
    "    #print(DF2[c])\n",
    "    #print(np.diag(DF1)[i])\n",
    "    dici[c] = DF2[c]/np.diag(DF2)[i]\n",
    "    desp[c] = DF[c]/np.diag(DF2)[i]\n",
    "    i=i+1\n",
    "    \n",
    "print(dici['Proposal 20001'])\n",
    "print(desp['Proposal 20001'])"
   ]
  },
  {
   "cell_type": "code",
   "execution_count": 5,
   "metadata": {},
   "outputs": [
    {
     "output_type": "execute_result",
     "data": {
      "text/plain": [
       "Proposal 20001    0.0\n",
       "Proposal 20002    0.0\n",
       "Proposal 20003    0.0\n",
       "Proposal 20004    0.0\n",
       "Proposal 20005    0.0\n",
       "Proposal 20006    0.0\n",
       "Proposal 20007    0.0\n",
       "Proposal 20008    0.0\n",
       "Proposal 20009    0.0\n",
       "Proposal 20010    0.0\n",
       "dtype: float64"
      ]
     },
     "metadata": {},
     "execution_count": 5
    }
   ],
   "source": [
    "Teste = pd.DataFrame(dici)\n",
    "Teste = (Teste.max()-1)*100\n",
    "Teste"
   ]
  },
  {
   "cell_type": "code",
   "execution_count": 6,
   "metadata": {},
   "outputs": [
    {
     "output_type": "execute_result",
     "data": {
      "text/plain": [
       "                Proposal 20001  Proposal 20002  Proposal 20003  \\\n",
       "FU-NU                                                            \n",
       "Proposal 20001        0.365128        0.000000        0.000000   \n",
       "Proposal 20002        0.587840        0.505623        0.000000   \n",
       "Proposal 20003        0.111475        0.172533        0.409359   \n",
       "Proposal 20004        0.364201        0.000000        0.000000   \n",
       "Proposal 20005        0.349245        0.000000        0.000000   \n",
       "Proposal 20006        0.000000        0.000000        0.000000   \n",
       "Proposal 20007        0.629319        0.000000        0.000000   \n",
       "Proposal 20008        0.339159        0.442506        0.000000   \n",
       "Proposal 20009        0.278801        0.393377        0.000000   \n",
       "Proposal 20010        0.631655        0.000000        0.000000   \n",
       "\n",
       "                Proposal 20004  Proposal 20005  Proposal 20006  \\\n",
       "FU-NU                                                            \n",
       "Proposal 20001        0.000000        0.000000        0.000000   \n",
       "Proposal 20002        0.000000        0.000000        0.000000   \n",
       "Proposal 20003        0.000000        0.000000        0.000000   \n",
       "Proposal 20004        0.874634        0.000000        0.000000   \n",
       "Proposal 20005        0.000000        0.912551        0.000000   \n",
       "Proposal 20006        0.000000        0.000000        1.231943   \n",
       "Proposal 20007        0.000000        0.000000        0.000000   \n",
       "Proposal 20008        0.125033        0.000000        0.000000   \n",
       "Proposal 20009        0.000000        0.000000        0.000000   \n",
       "Proposal 20010        0.000000        0.000000        0.000000   \n",
       "\n",
       "                Proposal 20007  Proposal 20008  Proposal 20009  Proposal 20010  \n",
       "FU-NU                                                                           \n",
       "Proposal 20001        0.000000        0.000000        0.000000        0.000000  \n",
       "Proposal 20002        0.688510        0.000000        0.000000        0.603040  \n",
       "Proposal 20003        0.140698        0.323134        0.357483        0.134644  \n",
       "Proposal 20004        0.457343        0.000000        0.000000        0.433062  \n",
       "Proposal 20005        0.438961        0.000000        0.000000        0.416411  \n",
       "Proposal 20006        0.000000        0.000000        0.000000        0.000000  \n",
       "Proposal 20007        0.288120        0.000000        0.000000        0.613289  \n",
       "Proposal 20008        0.426506        0.134280        0.000000        0.405024  \n",
       "Proposal 20009        0.351323        0.756805        0.327069        0.335050  \n",
       "Proposal 20010        0.000000        0.000000        0.000000        0.386276  "
      ],
      "text/html": "<div>\n<style scoped>\n    .dataframe tbody tr th:only-of-type {\n        vertical-align: middle;\n    }\n\n    .dataframe tbody tr th {\n        vertical-align: top;\n    }\n\n    .dataframe thead th {\n        text-align: right;\n    }\n</style>\n<table border=\"1\" class=\"dataframe\">\n  <thead>\n    <tr style=\"text-align: right;\">\n      <th></th>\n      <th>Proposal 20001</th>\n      <th>Proposal 20002</th>\n      <th>Proposal 20003</th>\n      <th>Proposal 20004</th>\n      <th>Proposal 20005</th>\n      <th>Proposal 20006</th>\n      <th>Proposal 20007</th>\n      <th>Proposal 20008</th>\n      <th>Proposal 20009</th>\n      <th>Proposal 20010</th>\n    </tr>\n    <tr>\n      <th>FU-NU</th>\n      <th></th>\n      <th></th>\n      <th></th>\n      <th></th>\n      <th></th>\n      <th></th>\n      <th></th>\n      <th></th>\n      <th></th>\n      <th></th>\n    </tr>\n  </thead>\n  <tbody>\n    <tr>\n      <th>Proposal 20001</th>\n      <td>0.365128</td>\n      <td>0.000000</td>\n      <td>0.000000</td>\n      <td>0.000000</td>\n      <td>0.000000</td>\n      <td>0.000000</td>\n      <td>0.000000</td>\n      <td>0.000000</td>\n      <td>0.000000</td>\n      <td>0.000000</td>\n    </tr>\n    <tr>\n      <th>Proposal 20002</th>\n      <td>0.587840</td>\n      <td>0.505623</td>\n      <td>0.000000</td>\n      <td>0.000000</td>\n      <td>0.000000</td>\n      <td>0.000000</td>\n      <td>0.688510</td>\n      <td>0.000000</td>\n      <td>0.000000</td>\n      <td>0.603040</td>\n    </tr>\n    <tr>\n      <th>Proposal 20003</th>\n      <td>0.111475</td>\n      <td>0.172533</td>\n      <td>0.409359</td>\n      <td>0.000000</td>\n      <td>0.000000</td>\n      <td>0.000000</td>\n      <td>0.140698</td>\n      <td>0.323134</td>\n      <td>0.357483</td>\n      <td>0.134644</td>\n    </tr>\n    <tr>\n      <th>Proposal 20004</th>\n      <td>0.364201</td>\n      <td>0.000000</td>\n      <td>0.000000</td>\n      <td>0.874634</td>\n      <td>0.000000</td>\n      <td>0.000000</td>\n      <td>0.457343</td>\n      <td>0.000000</td>\n      <td>0.000000</td>\n      <td>0.433062</td>\n    </tr>\n    <tr>\n      <th>Proposal 20005</th>\n      <td>0.349245</td>\n      <td>0.000000</td>\n      <td>0.000000</td>\n      <td>0.000000</td>\n      <td>0.912551</td>\n      <td>0.000000</td>\n      <td>0.438961</td>\n      <td>0.000000</td>\n      <td>0.000000</td>\n      <td>0.416411</td>\n    </tr>\n    <tr>\n      <th>Proposal 20006</th>\n      <td>0.000000</td>\n      <td>0.000000</td>\n      <td>0.000000</td>\n      <td>0.000000</td>\n      <td>0.000000</td>\n      <td>1.231943</td>\n      <td>0.000000</td>\n      <td>0.000000</td>\n      <td>0.000000</td>\n      <td>0.000000</td>\n    </tr>\n    <tr>\n      <th>Proposal 20007</th>\n      <td>0.629319</td>\n      <td>0.000000</td>\n      <td>0.000000</td>\n      <td>0.000000</td>\n      <td>0.000000</td>\n      <td>0.000000</td>\n      <td>0.288120</td>\n      <td>0.000000</td>\n      <td>0.000000</td>\n      <td>0.613289</td>\n    </tr>\n    <tr>\n      <th>Proposal 20008</th>\n      <td>0.339159</td>\n      <td>0.442506</td>\n      <td>0.000000</td>\n      <td>0.125033</td>\n      <td>0.000000</td>\n      <td>0.000000</td>\n      <td>0.426506</td>\n      <td>0.134280</td>\n      <td>0.000000</td>\n      <td>0.405024</td>\n    </tr>\n    <tr>\n      <th>Proposal 20009</th>\n      <td>0.278801</td>\n      <td>0.393377</td>\n      <td>0.000000</td>\n      <td>0.000000</td>\n      <td>0.000000</td>\n      <td>0.000000</td>\n      <td>0.351323</td>\n      <td>0.756805</td>\n      <td>0.327069</td>\n      <td>0.335050</td>\n    </tr>\n    <tr>\n      <th>Proposal 20010</th>\n      <td>0.631655</td>\n      <td>0.000000</td>\n      <td>0.000000</td>\n      <td>0.000000</td>\n      <td>0.000000</td>\n      <td>0.000000</td>\n      <td>0.000000</td>\n      <td>0.000000</td>\n      <td>0.000000</td>\n      <td>0.386276</td>\n    </tr>\n  </tbody>\n</table>\n</div>"
     },
     "metadata": {},
     "execution_count": 6
    }
   ],
   "source": [
    "Teste2 = pd.DataFrame(desp)\n",
    "Teste2"
   ]
  },
  {
   "cell_type": "code",
   "execution_count": 7,
   "metadata": {},
   "outputs": [
    {
     "output_type": "display_data",
     "data": {
      "text/plain": "<Figure size 432x288 with 1 Axes>",
      "image/svg+xml": "<?xml version=\"1.0\" encoding=\"utf-8\" standalone=\"no\"?>\r\n<!DOCTYPE svg PUBLIC \"-//W3C//DTD SVG 1.1//EN\"\r\n  \"http://www.w3.org/Graphics/SVG/1.1/DTD/svg11.dtd\">\r\n<svg height=\"248.518125pt\" version=\"1.1\" viewBox=\"0 0 245.2025 248.518125\" width=\"245.2025pt\" xmlns=\"http://www.w3.org/2000/svg\" xmlns:xlink=\"http://www.w3.org/1999/xlink\">\r\n <metadata>\r\n  <rdf:RDF xmlns:cc=\"http://creativecommons.org/ns#\" xmlns:dc=\"http://purl.org/dc/elements/1.1/\" xmlns:rdf=\"http://www.w3.org/1999/02/22-rdf-syntax-ns#\">\r\n   <cc:Work>\r\n    <dc:type rdf:resource=\"http://purl.org/dc/dcmitype/StillImage\"/>\r\n    <dc:date>2021-06-23T10:19:28.180224</dc:date>\r\n    <dc:format>image/svg+xml</dc:format>\r\n    <dc:creator>\r\n     <cc:Agent>\r\n      <dc:title>Matplotlib v3.4.2, https://matplotlib.org/</dc:title>\r\n     </cc:Agent>\r\n    </dc:creator>\r\n   </cc:Work>\r\n  </rdf:RDF>\r\n </metadata>\r\n <defs>\r\n  <style type=\"text/css\">*{stroke-linecap:butt;stroke-linejoin:round;}</style>\r\n </defs>\r\n <g id=\"figure_1\">\r\n  <g id=\"patch_1\">\r\n   <path d=\"M 0 248.518125 \r\nL 245.2025 248.518125 \r\nL 245.2025 0 \r\nL 0 0 \r\nz\r\n\" style=\"fill:none;\"/>\r\n  </g>\r\n  <g id=\"axes_1\">\r\n   <g id=\"patch_2\">\r\n    <path d=\"M 20.5625 224.64 \r\nL 238.0025 224.64 \r\nL 238.0025 7.2 \r\nL 20.5625 7.2 \r\nz\r\n\" style=\"fill:#ffffff;\"/>\r\n   </g>\r\n   <g clip-path=\"url(#pb13115046d)\">\r\n    <image height=\"218\" id=\"imageda503d3d19\" transform=\"scale(1 -1)translate(0 -218)\" width=\"218\" x=\"20.5625\" xlink:href=\"data:image/png;base64,\r\niVBORw0KGgoAAAANSUhEUgAAANoAAADaCAYAAADAHVzbAAAD+ElEQVR4nO3cPauXdRzH8euv53RjIA2VqUuI2lCDSkO5FBEccGiItoZoEhp8Bj2BIAiH9toaG9qdpMGbIB26o6HooASClZSn02lu/3/fIrxeD+DDNVxvftt3tbt9fG8ZsHXk1MQsjNq6cXdkd9/IKvA/QoOA0CAgNAgIDQJCg4DQICA0CAgNAkKDgNAgIDQICA0CQoOA0CAgNAgIDQJCg4DQICA0CAgNAqsXv/hg5ArW3TsHJmaXk+9dHdllWX74+OWR3aeurda+uf/+yG+73H7zr5FdLxoEhAYBoUFAaBAQGgSEBgGhQUBoEBAaBIQGAaFBQGgQEBoEhAYBoUFAaBAQGgSEBgGhQUBoEBAaBDYOH7w7Mnzv3qMjuxNuXTg7snvo4uWR3Sn/HvxnZHfnwObaN5/87Ku1by7Lsvz9zsmRXS8aBIQGAaFBQGgQEBoEhAYBoUFAaBAQGgSEBgGhQUBoEBAaBIQGAaFBQGgQEBoEhAYBoUFAaBBY3f/12N7E8LmjZyZmGXTq+szu16dndids3Zg5VuVFg4DQICA0CAgNAkKDgNAgIDQICA0CQoOA0CAgNAgIDQJCg4DQICA0CAgNAkKDgNAgIDQICA0CQoPA6o3V2yNXsJizOv3CyO7e9Zsju3jRICE0CAgNAkKDgNAgIDQICA0CQoOA0CAgNAgIDQJCg4DQICA0CAgNAkKDgNAgIDQICA0CQoOA0CCwsXnp8MjwzmvbI7sPk9vvnx3ZfeaTyyO73396ZmT3xLvXRnYn3PnyxMiuFw0CQoOA0CAgNAgIDQJCg4DQICA0CAgNAkKDgNAgIDQICA0CQoOA0CAgNAgIDQJCg4DQICA0CAgNAhuP7d8ZGZ5ZnXHrwsy1qkMXZ65VTdm3sfegP+GBe2T/7siuFw0CQoOA0CAgNAgIDQJCg4DQICA0CAgNAkKDgNAgIDQICA0CQoOA0CAgNAgIDQJCg4DQICA0CAgNAqtjH340cvpo84/VxOzy3Oe31r65+92Pa998GP12/pWR3aev/r72zd0nNte+uSzL8surj4/setEgIDQICA0CQoOA0CAgNAgIDQJCg4DQICA0CAgNAkKDgNAgIDQICA0CQoOA0CAgNAgIDQJCg8Dqp5+fHTnOc+7K+YnZ5ehbN0d2WZbnr8wcvPn2pZ2R3Qmvf/PnyK4XDQJCg4DQICA0CAgNAkKDgNAgIDQICA0CQoOA0CAgNAgIDQJCg4DQICA0CAgNAkKDgNAgIDQICA0Cq93t4yNXsLaOnJqYhYeSFw0CQoOA0CAgNAgIDQJCg4DQICA0CAgNAkKDgNAgIDQICA0CQoOA0CAgNAgIDQJCg4DQICA0CAgNAv8BPBFZNC3Z0JwAAAAASUVORK5CYII=\" y=\"-6.64\"/>\r\n   </g>\r\n   <g id=\"matplotlib.axis_1\">\r\n    <g id=\"xtick_1\">\r\n     <g id=\"line2d_1\">\r\n      <defs>\r\n       <path d=\"M 0 0 \r\nL 0 3.5 \r\n\" id=\"m7893e39162\" style=\"stroke:#000000;stroke-width:0.8;\"/>\r\n      </defs>\r\n      <g>\r\n       <use style=\"stroke:#000000;stroke-width:0.8;\" x=\"31.4345\" xlink:href=\"#m7893e39162\" y=\"224.64\"/>\r\n      </g>\r\n     </g>\r\n     <g id=\"text_1\">\r\n      <!-- 0 -->\r\n      <g transform=\"translate(28.25325 239.238437)scale(0.1 -0.1)\">\r\n       <defs>\r\n        <path d=\"M 2034 4250 \r\nQ 1547 4250 1301 3770 \r\nQ 1056 3291 1056 2328 \r\nQ 1056 1369 1301 889 \r\nQ 1547 409 2034 409 \r\nQ 2525 409 2770 889 \r\nQ 3016 1369 3016 2328 \r\nQ 3016 3291 2770 3770 \r\nQ 2525 4250 2034 4250 \r\nz\r\nM 2034 4750 \r\nQ 2819 4750 3233 4129 \r\nQ 3647 3509 3647 2328 \r\nQ 3647 1150 3233 529 \r\nQ 2819 -91 2034 -91 \r\nQ 1250 -91 836 529 \r\nQ 422 1150 422 2328 \r\nQ 422 3509 836 4129 \r\nQ 1250 4750 2034 4750 \r\nz\r\n\" id=\"DejaVuSans-30\" transform=\"scale(0.015625)\"/>\r\n       </defs>\r\n       <use xlink:href=\"#DejaVuSans-30\"/>\r\n      </g>\r\n     </g>\r\n    </g>\r\n    <g id=\"xtick_2\">\r\n     <g id=\"line2d_2\">\r\n      <g>\r\n       <use style=\"stroke:#000000;stroke-width:0.8;\" x=\"74.9225\" xlink:href=\"#m7893e39162\" y=\"224.64\"/>\r\n      </g>\r\n     </g>\r\n     <g id=\"text_2\">\r\n      <!-- 2 -->\r\n      <g transform=\"translate(71.74125 239.238437)scale(0.1 -0.1)\">\r\n       <defs>\r\n        <path d=\"M 1228 531 \r\nL 3431 531 \r\nL 3431 0 \r\nL 469 0 \r\nL 469 531 \r\nQ 828 903 1448 1529 \r\nQ 2069 2156 2228 2338 \r\nQ 2531 2678 2651 2914 \r\nQ 2772 3150 2772 3378 \r\nQ 2772 3750 2511 3984 \r\nQ 2250 4219 1831 4219 \r\nQ 1534 4219 1204 4116 \r\nQ 875 4013 500 3803 \r\nL 500 4441 \r\nQ 881 4594 1212 4672 \r\nQ 1544 4750 1819 4750 \r\nQ 2544 4750 2975 4387 \r\nQ 3406 4025 3406 3419 \r\nQ 3406 3131 3298 2873 \r\nQ 3191 2616 2906 2266 \r\nQ 2828 2175 2409 1742 \r\nQ 1991 1309 1228 531 \r\nz\r\n\" id=\"DejaVuSans-32\" transform=\"scale(0.015625)\"/>\r\n       </defs>\r\n       <use xlink:href=\"#DejaVuSans-32\"/>\r\n      </g>\r\n     </g>\r\n    </g>\r\n    <g id=\"xtick_3\">\r\n     <g id=\"line2d_3\">\r\n      <g>\r\n       <use style=\"stroke:#000000;stroke-width:0.8;\" x=\"118.4105\" xlink:href=\"#m7893e39162\" y=\"224.64\"/>\r\n      </g>\r\n     </g>\r\n     <g id=\"text_3\">\r\n      <!-- 4 -->\r\n      <g transform=\"translate(115.22925 239.238437)scale(0.1 -0.1)\">\r\n       <defs>\r\n        <path d=\"M 2419 4116 \r\nL 825 1625 \r\nL 2419 1625 \r\nL 2419 4116 \r\nz\r\nM 2253 4666 \r\nL 3047 4666 \r\nL 3047 1625 \r\nL 3713 1625 \r\nL 3713 1100 \r\nL 3047 1100 \r\nL 3047 0 \r\nL 2419 0 \r\nL 2419 1100 \r\nL 313 1100 \r\nL 313 1709 \r\nL 2253 4666 \r\nz\r\n\" id=\"DejaVuSans-34\" transform=\"scale(0.015625)\"/>\r\n       </defs>\r\n       <use xlink:href=\"#DejaVuSans-34\"/>\r\n      </g>\r\n     </g>\r\n    </g>\r\n    <g id=\"xtick_4\">\r\n     <g id=\"line2d_4\">\r\n      <g>\r\n       <use style=\"stroke:#000000;stroke-width:0.8;\" x=\"161.8985\" xlink:href=\"#m7893e39162\" y=\"224.64\"/>\r\n      </g>\r\n     </g>\r\n     <g id=\"text_4\">\r\n      <!-- 6 -->\r\n      <g transform=\"translate(158.71725 239.238437)scale(0.1 -0.1)\">\r\n       <defs>\r\n        <path d=\"M 2113 2584 \r\nQ 1688 2584 1439 2293 \r\nQ 1191 2003 1191 1497 \r\nQ 1191 994 1439 701 \r\nQ 1688 409 2113 409 \r\nQ 2538 409 2786 701 \r\nQ 3034 994 3034 1497 \r\nQ 3034 2003 2786 2293 \r\nQ 2538 2584 2113 2584 \r\nz\r\nM 3366 4563 \r\nL 3366 3988 \r\nQ 3128 4100 2886 4159 \r\nQ 2644 4219 2406 4219 \r\nQ 1781 4219 1451 3797 \r\nQ 1122 3375 1075 2522 \r\nQ 1259 2794 1537 2939 \r\nQ 1816 3084 2150 3084 \r\nQ 2853 3084 3261 2657 \r\nQ 3669 2231 3669 1497 \r\nQ 3669 778 3244 343 \r\nQ 2819 -91 2113 -91 \r\nQ 1303 -91 875 529 \r\nQ 447 1150 447 2328 \r\nQ 447 3434 972 4092 \r\nQ 1497 4750 2381 4750 \r\nQ 2619 4750 2861 4703 \r\nQ 3103 4656 3366 4563 \r\nz\r\n\" id=\"DejaVuSans-36\" transform=\"scale(0.015625)\"/>\r\n       </defs>\r\n       <use xlink:href=\"#DejaVuSans-36\"/>\r\n      </g>\r\n     </g>\r\n    </g>\r\n    <g id=\"xtick_5\">\r\n     <g id=\"line2d_5\">\r\n      <g>\r\n       <use style=\"stroke:#000000;stroke-width:0.8;\" x=\"205.3865\" xlink:href=\"#m7893e39162\" y=\"224.64\"/>\r\n      </g>\r\n     </g>\r\n     <g id=\"text_5\">\r\n      <!-- 8 -->\r\n      <g transform=\"translate(202.20525 239.238437)scale(0.1 -0.1)\">\r\n       <defs>\r\n        <path d=\"M 2034 2216 \r\nQ 1584 2216 1326 1975 \r\nQ 1069 1734 1069 1313 \r\nQ 1069 891 1326 650 \r\nQ 1584 409 2034 409 \r\nQ 2484 409 2743 651 \r\nQ 3003 894 3003 1313 \r\nQ 3003 1734 2745 1975 \r\nQ 2488 2216 2034 2216 \r\nz\r\nM 1403 2484 \r\nQ 997 2584 770 2862 \r\nQ 544 3141 544 3541 \r\nQ 544 4100 942 4425 \r\nQ 1341 4750 2034 4750 \r\nQ 2731 4750 3128 4425 \r\nQ 3525 4100 3525 3541 \r\nQ 3525 3141 3298 2862 \r\nQ 3072 2584 2669 2484 \r\nQ 3125 2378 3379 2068 \r\nQ 3634 1759 3634 1313 \r\nQ 3634 634 3220 271 \r\nQ 2806 -91 2034 -91 \r\nQ 1263 -91 848 271 \r\nQ 434 634 434 1313 \r\nQ 434 1759 690 2068 \r\nQ 947 2378 1403 2484 \r\nz\r\nM 1172 3481 \r\nQ 1172 3119 1398 2916 \r\nQ 1625 2713 2034 2713 \r\nQ 2441 2713 2670 2916 \r\nQ 2900 3119 2900 3481 \r\nQ 2900 3844 2670 4047 \r\nQ 2441 4250 2034 4250 \r\nQ 1625 4250 1398 4047 \r\nQ 1172 3844 1172 3481 \r\nz\r\n\" id=\"DejaVuSans-38\" transform=\"scale(0.015625)\"/>\r\n       </defs>\r\n       <use xlink:href=\"#DejaVuSans-38\"/>\r\n      </g>\r\n     </g>\r\n    </g>\r\n   </g>\r\n   <g id=\"matplotlib.axis_2\">\r\n    <g id=\"ytick_1\">\r\n     <g id=\"line2d_6\">\r\n      <defs>\r\n       <path d=\"M 0 0 \r\nL -3.5 0 \r\n\" id=\"m54b370cc16\" style=\"stroke:#000000;stroke-width:0.8;\"/>\r\n      </defs>\r\n      <g>\r\n       <use style=\"stroke:#000000;stroke-width:0.8;\" x=\"20.5625\" xlink:href=\"#m54b370cc16\" y=\"18.072\"/>\r\n      </g>\r\n     </g>\r\n     <g id=\"text_6\">\r\n      <!-- 0 -->\r\n      <g transform=\"translate(7.2 21.871219)scale(0.1 -0.1)\">\r\n       <use xlink:href=\"#DejaVuSans-30\"/>\r\n      </g>\r\n     </g>\r\n    </g>\r\n    <g id=\"ytick_2\">\r\n     <g id=\"line2d_7\">\r\n      <g>\r\n       <use style=\"stroke:#000000;stroke-width:0.8;\" x=\"20.5625\" xlink:href=\"#m54b370cc16\" y=\"61.56\"/>\r\n      </g>\r\n     </g>\r\n     <g id=\"text_7\">\r\n      <!-- 2 -->\r\n      <g transform=\"translate(7.2 65.359219)scale(0.1 -0.1)\">\r\n       <use xlink:href=\"#DejaVuSans-32\"/>\r\n      </g>\r\n     </g>\r\n    </g>\r\n    <g id=\"ytick_3\">\r\n     <g id=\"line2d_8\">\r\n      <g>\r\n       <use style=\"stroke:#000000;stroke-width:0.8;\" x=\"20.5625\" xlink:href=\"#m54b370cc16\" y=\"105.048\"/>\r\n      </g>\r\n     </g>\r\n     <g id=\"text_8\">\r\n      <!-- 4 -->\r\n      <g transform=\"translate(7.2 108.847219)scale(0.1 -0.1)\">\r\n       <use xlink:href=\"#DejaVuSans-34\"/>\r\n      </g>\r\n     </g>\r\n    </g>\r\n    <g id=\"ytick_4\">\r\n     <g id=\"line2d_9\">\r\n      <g>\r\n       <use style=\"stroke:#000000;stroke-width:0.8;\" x=\"20.5625\" xlink:href=\"#m54b370cc16\" y=\"148.536\"/>\r\n      </g>\r\n     </g>\r\n     <g id=\"text_9\">\r\n      <!-- 6 -->\r\n      <g transform=\"translate(7.2 152.335219)scale(0.1 -0.1)\">\r\n       <use xlink:href=\"#DejaVuSans-36\"/>\r\n      </g>\r\n     </g>\r\n    </g>\r\n    <g id=\"ytick_5\">\r\n     <g id=\"line2d_10\">\r\n      <g>\r\n       <use style=\"stroke:#000000;stroke-width:0.8;\" x=\"20.5625\" xlink:href=\"#m54b370cc16\" y=\"192.024\"/>\r\n      </g>\r\n     </g>\r\n     <g id=\"text_10\">\r\n      <!-- 8 -->\r\n      <g transform=\"translate(7.2 195.823219)scale(0.1 -0.1)\">\r\n       <use xlink:href=\"#DejaVuSans-38\"/>\r\n      </g>\r\n     </g>\r\n    </g>\r\n   </g>\r\n   <g id=\"patch_3\">\r\n    <path d=\"M 20.5625 224.64 \r\nL 20.5625 7.2 \r\n\" style=\"fill:none;stroke:#000000;stroke-linecap:square;stroke-linejoin:miter;stroke-width:0.8;\"/>\r\n   </g>\r\n   <g id=\"patch_4\">\r\n    <path d=\"M 238.0025 224.64 \r\nL 238.0025 7.2 \r\n\" style=\"fill:none;stroke:#000000;stroke-linecap:square;stroke-linejoin:miter;stroke-width:0.8;\"/>\r\n   </g>\r\n   <g id=\"patch_5\">\r\n    <path d=\"M 20.5625 224.64 \r\nL 238.0025 224.64 \r\n\" style=\"fill:none;stroke:#000000;stroke-linecap:square;stroke-linejoin:miter;stroke-width:0.8;\"/>\r\n   </g>\r\n   <g id=\"patch_6\">\r\n    <path d=\"M 20.5625 7.2 \r\nL 238.0025 7.2 \r\n\" style=\"fill:none;stroke:#000000;stroke-linecap:square;stroke-linejoin:miter;stroke-width:0.8;\"/>\r\n   </g>\r\n  </g>\r\n </g>\r\n <defs>\r\n  <clipPath id=\"pb13115046d\">\r\n   <rect height=\"217.44\" width=\"217.44\" x=\"20.5625\" y=\"7.2\"/>\r\n  </clipPath>\r\n </defs>\r\n</svg>\r\n",
      "image/png": "[encoded data removed]"
     },
     "metadata": {
      "needs_background": "light"
     }
    }
   ],
   "source": [
    "import matplotlib\n",
    "import matplotlib.pyplot as plt\n",
    "fig, ax = plt.subplots()\n",
    "im = ax.imshow(DF2)\n"
   ]
  },
  {
   "cell_type": "code",
   "execution_count": null,
   "metadata": {},
   "outputs": [],
   "source": []
  },
  {
   "cell_type": "code",
   "execution_count": null,
   "metadata": {},
   "outputs": [],
   "source": []
  }
 ]
}